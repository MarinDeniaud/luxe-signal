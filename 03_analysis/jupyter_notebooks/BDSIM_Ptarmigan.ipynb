{
 "cells": [
  {
   "cell_type": "code",
   "execution_count": 1,
   "id": "3cd6aafc-b1c3-4719-abb3-c1a4aa942501",
   "metadata": {
    "tags": []
   },
   "outputs": [],
   "source": [
    "import numpy as _np\n",
    "import matplotlib.pyplot as _plt\n",
    "import pybdsim as _bd\n",
    "import h5py as _h5"
   ]
  },
  {
   "cell_type": "code",
   "execution_count": 2,
   "id": "ff1fe3e9-9980-4a25-b010-31f23882639c",
   "metadata": {
    "tags": []
   },
   "outputs": [],
   "source": [
    "bdsimfile = \"../../../luxe-backgrounds/04_dataLocal/00_LUXEDET1_tracking_for_compton_10000-part.root\"\n",
    "hdf5file = \"../../00_ptarmigan/00_luxe_default_100000_particles.h5\""
   ]
  },
  {
   "cell_type": "code",
   "execution_count": 3,
   "id": "68c103eb-eb19-4eba-9394-c3ed76ec34ec",
   "metadata": {
    "tags": []
   },
   "outputs": [],
   "source": [
    "bdsim = _bd.DataPandas.BDSIMOutput(bdsimfile)"
   ]
  },
  {
   "cell_type": "code",
   "execution_count": 4,
   "id": "f6c277a7-8894-45e2-b297-b7f32607717a",
   "metadata": {
    "tags": []
   },
   "outputs": [],
   "source": [
    "last_sampler = bdsim.get_sampler_names()[-1]"
   ]
  },
  {
   "cell_type": "code",
   "execution_count": 5,
   "id": "d3c4e08c-1955-44c8-ace4-44ddedbd3b66",
   "metadata": {
    "tags": []
   },
   "outputs": [],
   "source": [
    "df = bdsim.get_sampler(last_sampler)"
   ]
  },
  {
   "cell_type": "code",
   "execution_count": 6,
   "id": "4d5c42c7-0753-4cbb-91b8-4517e148bb08",
   "metadata": {
    "tags": []
   },
   "outputs": [
    {
     "data": {
      "text/html": [
       "<div>\n",
       "<style scoped>\n",
       "    .dataframe tbody tr th:only-of-type {\n",
       "        vertical-align: middle;\n",
       "    }\n",
       "\n",
       "    .dataframe tbody tr th {\n",
       "        vertical-align: top;\n",
       "    }\n",
       "\n",
       "    .dataframe thead th {\n",
       "        text-align: right;\n",
       "    }\n",
       "</style>\n",
       "<table border=\"1\" class=\"dataframe\">\n",
       "  <thead>\n",
       "    <tr style=\"text-align: right;\">\n",
       "      <th></th>\n",
       "      <th>file_idx</th>\n",
       "      <th>event_idx</th>\n",
       "      <th>x</th>\n",
       "      <th>xp</th>\n",
       "      <th>y</th>\n",
       "      <th>yp</th>\n",
       "      <th>z</th>\n",
       "      <th>zp</th>\n",
       "      <th>T</th>\n",
       "      <th>energy</th>\n",
       "      <th>partID</th>\n",
       "      <th>trackID</th>\n",
       "      <th>weight</th>\n",
       "    </tr>\n",
       "  </thead>\n",
       "  <tbody>\n",
       "    <tr>\n",
       "      <th>0</th>\n",
       "      <td>0</td>\n",
       "      <td>0</td>\n",
       "      <td>4.823656e-06</td>\n",
       "      <td>1.581510e-06</td>\n",
       "      <td>6.507235e-06</td>\n",
       "      <td>-0.000001</td>\n",
       "      <td>0.0</td>\n",
       "      <td>1.0</td>\n",
       "      <td>25.040825</td>\n",
       "      <td>13.999986</td>\n",
       "      <td>11</td>\n",
       "      <td>1</td>\n",
       "      <td>1.0</td>\n",
       "    </tr>\n",
       "    <tr>\n",
       "      <th>1</th>\n",
       "      <td>0</td>\n",
       "      <td>1</td>\n",
       "      <td>-6.857778e-06</td>\n",
       "      <td>-2.930807e-06</td>\n",
       "      <td>-1.307786e-05</td>\n",
       "      <td>0.000005</td>\n",
       "      <td>0.0</td>\n",
       "      <td>1.0</td>\n",
       "      <td>25.040825</td>\n",
       "      <td>14.000026</td>\n",
       "      <td>11</td>\n",
       "      <td>1</td>\n",
       "      <td>1.0</td>\n",
       "    </tr>\n",
       "    <tr>\n",
       "      <th>2</th>\n",
       "      <td>0</td>\n",
       "      <td>2</td>\n",
       "      <td>1.580387e-05</td>\n",
       "      <td>-6.708624e-07</td>\n",
       "      <td>-1.032120e-06</td>\n",
       "      <td>0.000003</td>\n",
       "      <td>0.0</td>\n",
       "      <td>1.0</td>\n",
       "      <td>25.040825</td>\n",
       "      <td>13.999988</td>\n",
       "      <td>11</td>\n",
       "      <td>1</td>\n",
       "      <td>1.0</td>\n",
       "    </tr>\n",
       "    <tr>\n",
       "      <th>3</th>\n",
       "      <td>0</td>\n",
       "      <td>3</td>\n",
       "      <td>-9.703575e-06</td>\n",
       "      <td>-5.154786e-06</td>\n",
       "      <td>8.806214e-06</td>\n",
       "      <td>-0.000006</td>\n",
       "      <td>0.0</td>\n",
       "      <td>1.0</td>\n",
       "      <td>25.040825</td>\n",
       "      <td>13.999999</td>\n",
       "      <td>11</td>\n",
       "      <td>1</td>\n",
       "      <td>1.0</td>\n",
       "    </tr>\n",
       "    <tr>\n",
       "      <th>4</th>\n",
       "      <td>0</td>\n",
       "      <td>4</td>\n",
       "      <td>5.804243e-07</td>\n",
       "      <td>-3.401074e-06</td>\n",
       "      <td>-4.123114e-06</td>\n",
       "      <td>0.000005</td>\n",
       "      <td>0.0</td>\n",
       "      <td>1.0</td>\n",
       "      <td>25.040825</td>\n",
       "      <td>13.999996</td>\n",
       "      <td>11</td>\n",
       "      <td>1</td>\n",
       "      <td>1.0</td>\n",
       "    </tr>\n",
       "    <tr>\n",
       "      <th>...</th>\n",
       "      <td>...</td>\n",
       "      <td>...</td>\n",
       "      <td>...</td>\n",
       "      <td>...</td>\n",
       "      <td>...</td>\n",
       "      <td>...</td>\n",
       "      <td>...</td>\n",
       "      <td>...</td>\n",
       "      <td>...</td>\n",
       "      <td>...</td>\n",
       "      <td>...</td>\n",
       "      <td>...</td>\n",
       "      <td>...</td>\n",
       "    </tr>\n",
       "    <tr>\n",
       "      <th>9995</th>\n",
       "      <td>0</td>\n",
       "      <td>9995</td>\n",
       "      <td>2.864020e-06</td>\n",
       "      <td>7.692836e-06</td>\n",
       "      <td>1.442006e-05</td>\n",
       "      <td>-0.000002</td>\n",
       "      <td>0.0</td>\n",
       "      <td>1.0</td>\n",
       "      <td>25.040825</td>\n",
       "      <td>13.999996</td>\n",
       "      <td>11</td>\n",
       "      <td>1</td>\n",
       "      <td>1.0</td>\n",
       "    </tr>\n",
       "    <tr>\n",
       "      <th>9996</th>\n",
       "      <td>0</td>\n",
       "      <td>9996</td>\n",
       "      <td>1.993116e-05</td>\n",
       "      <td>-2.365524e-09</td>\n",
       "      <td>6.772235e-06</td>\n",
       "      <td>0.000001</td>\n",
       "      <td>0.0</td>\n",
       "      <td>1.0</td>\n",
       "      <td>25.040825</td>\n",
       "      <td>13.999980</td>\n",
       "      <td>11</td>\n",
       "      <td>1</td>\n",
       "      <td>1.0</td>\n",
       "    </tr>\n",
       "    <tr>\n",
       "      <th>9997</th>\n",
       "      <td>0</td>\n",
       "      <td>9997</td>\n",
       "      <td>-3.770349e-06</td>\n",
       "      <td>-1.311004e-06</td>\n",
       "      <td>1.497604e-07</td>\n",
       "      <td>0.000005</td>\n",
       "      <td>0.0</td>\n",
       "      <td>1.0</td>\n",
       "      <td>25.040825</td>\n",
       "      <td>14.000008</td>\n",
       "      <td>11</td>\n",
       "      <td>1</td>\n",
       "      <td>1.0</td>\n",
       "    </tr>\n",
       "    <tr>\n",
       "      <th>9998</th>\n",
       "      <td>0</td>\n",
       "      <td>9998</td>\n",
       "      <td>1.680506e-05</td>\n",
       "      <td>-4.766686e-06</td>\n",
       "      <td>-6.869508e-06</td>\n",
       "      <td>-0.000002</td>\n",
       "      <td>0.0</td>\n",
       "      <td>1.0</td>\n",
       "      <td>25.040825</td>\n",
       "      <td>13.999990</td>\n",
       "      <td>11</td>\n",
       "      <td>1</td>\n",
       "      <td>1.0</td>\n",
       "    </tr>\n",
       "    <tr>\n",
       "      <th>9999</th>\n",
       "      <td>0</td>\n",
       "      <td>9999</td>\n",
       "      <td>-2.449714e-06</td>\n",
       "      <td>1.922222e-06</td>\n",
       "      <td>2.115607e-06</td>\n",
       "      <td>0.000003</td>\n",
       "      <td>0.0</td>\n",
       "      <td>1.0</td>\n",
       "      <td>25.040825</td>\n",
       "      <td>13.999998</td>\n",
       "      <td>11</td>\n",
       "      <td>1</td>\n",
       "      <td>1.0</td>\n",
       "    </tr>\n",
       "  </tbody>\n",
       "</table>\n",
       "<p>10000 rows × 13 columns</p>\n",
       "</div>"
      ],
      "text/plain": [
       "      file_idx  event_idx             x            xp             y        yp  \\\n",
       "0            0          0  4.823656e-06  1.581510e-06  6.507235e-06 -0.000001   \n",
       "1            0          1 -6.857778e-06 -2.930807e-06 -1.307786e-05  0.000005   \n",
       "2            0          2  1.580387e-05 -6.708624e-07 -1.032120e-06  0.000003   \n",
       "3            0          3 -9.703575e-06 -5.154786e-06  8.806214e-06 -0.000006   \n",
       "4            0          4  5.804243e-07 -3.401074e-06 -4.123114e-06  0.000005   \n",
       "...        ...        ...           ...           ...           ...       ...   \n",
       "9995         0       9995  2.864020e-06  7.692836e-06  1.442006e-05 -0.000002   \n",
       "9996         0       9996  1.993116e-05 -2.365524e-09  6.772235e-06  0.000001   \n",
       "9997         0       9997 -3.770349e-06 -1.311004e-06  1.497604e-07  0.000005   \n",
       "9998         0       9998  1.680506e-05 -4.766686e-06 -6.869508e-06 -0.000002   \n",
       "9999         0       9999 -2.449714e-06  1.922222e-06  2.115607e-06  0.000003   \n",
       "\n",
       "        z   zp          T     energy  partID  trackID  weight  \n",
       "0     0.0  1.0  25.040825  13.999986      11        1     1.0  \n",
       "1     0.0  1.0  25.040825  14.000026      11        1     1.0  \n",
       "2     0.0  1.0  25.040825  13.999988      11        1     1.0  \n",
       "3     0.0  1.0  25.040825  13.999999      11        1     1.0  \n",
       "4     0.0  1.0  25.040825  13.999996      11        1     1.0  \n",
       "...   ...  ...        ...        ...     ...      ...     ...  \n",
       "9995  0.0  1.0  25.040825  13.999996      11        1     1.0  \n",
       "9996  0.0  1.0  25.040825  13.999980      11        1     1.0  \n",
       "9997  0.0  1.0  25.040825  14.000008      11        1     1.0  \n",
       "9998  0.0  1.0  25.040825  13.999990      11        1     1.0  \n",
       "9999  0.0  1.0  25.040825  13.999998      11        1     1.0  \n",
       "\n",
       "[10000 rows x 13 columns]"
      ]
     },
     "execution_count": 6,
     "metadata": {},
     "output_type": "execute_result"
    }
   ],
   "source": [
    "df"
   ]
  },
  {
   "cell_type": "code",
   "execution_count": 85,
   "id": "3415dc99-97d9-4058-a700-60f2c67705e9",
   "metadata": {
    "tags": []
   },
   "outputs": [],
   "source": [
    "particle_dict={11:  {\"Name\": \"electron\", \"mass\": 0.511e-3},\n",
    "               -11: {\"Name\": \"positron\", \"mass\": 0.511e-3},\n",
    "               22:  {\"Name\": \"photon\",   \"mass\": 0}}\n",
    "\n",
    "def getBdsimFinalData(bdsimfile, mu_z=0, sigma_z=25e-12):\n",
    "    bdsim = _bd.DataPandas.BDSIMOutput(bdsimfile)\n",
    "    last_sampler = bdsim.get_sampler_names()[-1]\n",
    "    df = bdsim.get_sampler(last_sampler)\n",
    "    getMassInDF(df)\n",
    "    for partID in particle_dict.keys():\n",
    "        df.loc[df['partID'] == partID, 'mass'] = particle_dict[partID]['mass']\n",
    "\n",
    "    df['Px'] = df['xp']*_np.sqrt(pow(df['energy'], 2) - pow(df['mass'], 2))\n",
    "    df['Py'] = df['yp']*_np.sqrt(pow(df['energy'], 2) - pow(df['mass'], 2))\n",
    "    df['Pz'] = _np.sqrt(pow(df['energy'], 2) - pow(df['Px'], 2) - pow(df['Py'], 2) - pow(df['mass'], 2))\n",
    "\n",
    "    df['z'] = _np.array([_np.random.normal(mu_z, sigma_z) for i in range(len(df['x']))])\n",
    "    \n",
    "    # We assume that the spacetime interval s^2 is 0\n",
    "    df['T'] = _np.sqrt(pow(df['x'], 2) + pow(df['y'], 2) + pow(df['z'], 2))\n",
    "    \n",
    "    return df\n",
    "    \n",
    "def getBdsimDataInH5(bdsimfile, hdf5file, mu_z=0, sigma_z=25e-12):\n",
    "    df = getBdsimFinalData(bdsimfile, mu_z, sigma_z)\n",
    "    \n",
    "    h5 = _h5.File(hdf5file, 'w')\n",
    "    h5[\"beam_axis\"] = \"+z\"\n",
    "    h5['config/unit/momentum'] = \"GeV/c\"\n",
    "    h5['config/unit/position'] = \"m\"\n",
    "    \n",
    "    for partID in df['partID'].unique():\n",
    "        npart = len(df[df['partID'] == partID])\n",
    "        partname = particle_dict[partID]['Name']\n",
    "        \n",
    "        Momentum = _np.array([])\n",
    "        Position = _np.array([])\n",
    "        Weight = _np.array([])\n",
    "        for i in df.index:\n",
    "            mom4vect = _np.array([df.iloc[i]['energy'], df.iloc[i]['Px'], df.iloc[i]['Py'], df.iloc[i]['Pz']])\n",
    "            pos4vect = _np.array([df.iloc[i]['T'],      df.iloc[i]['x'],  df.iloc[i]['y'],  df.iloc[i]['z']])\n",
    "            \n",
    "            Momentum = _np.append(Momentum, mom4vect)\n",
    "            Position = _np.append(Position, pos4vect)\n",
    "            Weight = _np.append(Weight, df.iloc[i]['weight'])\n",
    "        \n",
    "        h5.create_dataset('final-state/{}/momentum'.format(partname), data=_np.reshape(Momentum, (npart, 4)))\n",
    "        h5.create_dataset('final-state/{}/position'.format(partname), data=_np.reshape(Position, (npart, 4)))\n",
    "        h5.create_dataset('final-state/{}/weight'.format(partname), data=Weight)\n",
    "            \n",
    "    h5.close()"
   ]
  },
  {
   "cell_type": "code",
   "execution_count": 86,
   "id": "0e1fc6ed-3e58-4ebc-ab65-88ef2a0c3718",
   "metadata": {
    "tags": []
   },
   "outputs": [],
   "source": [
    "getBdsimDataInH5(bdsimfile, \"testofthefunction.h5\")"
   ]
  },
  {
   "cell_type": "code",
   "execution_count": 87,
   "id": "a6cdb1ae-b55b-49e4-ae53-1f0e71342c11",
   "metadata": {
    "tags": []
   },
   "outputs": [],
   "source": [
    "test = _h5.File(\"testofthefunction.h5\")"
   ]
  },
  {
   "cell_type": "code",
   "execution_count": 88,
   "id": "c9c6325b-1139-4512-b643-c37b44295d6a",
   "metadata": {
    "tags": []
   },
   "outputs": [
    {
     "data": {
      "text/plain": [
       "array([[ 8.10010933e-06,  4.82365613e-06,  6.50723541e-06,\n",
       "         2.98818388e-11],\n",
       "       [ 1.47668391e-05, -6.85777786e-06, -1.30778599e-05,\n",
       "         2.16735720e-11],\n",
       "       [ 1.58375326e-05,  1.58038656e-05, -1.03211971e-06,\n",
       "         5.12431663e-11],\n",
       "       ...,\n",
       "       [ 3.77332251e-06, -3.77034939e-06,  1.49760425e-07,\n",
       "         1.93981631e-11],\n",
       "       [ 1.81548951e-05,  1.68050610e-05, -6.86950807e-06,\n",
       "         3.94551514e-12],\n",
       "       [ 3.23680235e-06, -2.44971375e-06,  2.11560678e-06,\n",
       "        -1.67305460e-12]])"
      ]
     },
     "execution_count": 88,
     "metadata": {},
     "output_type": "execute_result"
    }
   ],
   "source": [
    "test[\"final-state/electron/position\"][()]"
   ]
  },
  {
   "cell_type": "code",
   "execution_count": 89,
   "id": "34077058-0738-4b3a-b74a-9e018a9e688a",
   "metadata": {
    "tags": []
   },
   "outputs": [],
   "source": [
    "test.close()"
   ]
  },
  {
   "cell_type": "code",
   "execution_count": 96,
   "id": "98f8960d-0842-4e09-be73-5a3a954fca7a",
   "metadata": {
    "tags": []
   },
   "outputs": [],
   "source": [
    "def getMass(particle):\n",
    "    if particle == 'electron' or particle == 'positron':\n",
    "        return 0.511e-3\n",
    "    elif particle == 'photon':\n",
    "        return 0\n",
    "    else:\n",
    "        raise ValueError(\"Unknown particle '{}'\".format(particle))\n",
    "\n",
    "def getPtarmiganDataInDict(hdf5file):\n",
    "    h5 = _h5.File(hdf5file)\n",
    "    data_dict = {}\n",
    "    for particle in h5['final-state'].keys():\n",
    "        if particle != 'laser':\n",
    "            data_dict[particle] = {}\n",
    "            data_dict[particle]['momentum'] = h5['final-state/{}/momentum'.format(particle)][()]\n",
    "            data_dict[particle]['position'] = h5['final-state/{}/position'.format(particle)][()]\n",
    "            data_dict[particle]['weight'] = h5['final-state/{}/weight'.format(particle)][()]\n",
    "    return data_dict\n",
    "    h5.close()\n",
    "    \n",
    "def getPtarmiganDataInBDSIM(hdf5file, outputfilename='beam.dat', particle='electron'):\n",
    "    data_dict = getPtarmiganDataInDict(hdf5file)\n",
    "    for particle in data_dict.keys():\n",
    "        weight = data_dict[particle]['weight'][:]\n",
    "    \n",
    "        energy = data_dict[particle]['momentum'][:][:, 0]\n",
    "        momX   = data_dict[particle]['momentum'][:][:, 1]\n",
    "        momY   = data_dict[particle]['momentum'][:][:, 2]\n",
    "    \n",
    "        posX   = data_dict[particle]['position'][:][:, 1]\n",
    "        posY   = data_dict[particle]['position'][:][:, 2]\n",
    "        posZ   = data_dict[particle]['position'][:][:, 3]\n",
    "    \n",
    "        angX   = momX / _np.sqrt(pow(energy, 2) - pow(getMass(particle), 2))\n",
    "        angY   = momY / _np.sqrt(pow(energy, 2) - pow(getMass(particle), 2))\n",
    "    \n",
    "        file = open(outputfilename, 'w')\n",
    "        for i in range(len(energy)):\n",
    "            file.write(\"{} {} {} {} {} {} \\n\".format(posX[i], angX[i], posY[i], angY[i], posZ[i], energy[i], weight))\n",
    "    file.close()"
   ]
  },
  {
   "cell_type": "code",
   "execution_count": 69,
   "id": "3c39a455-3983-4862-9c74-e4481c0df775",
   "metadata": {
    "tags": []
   },
   "outputs": [],
   "source": [
    "getPtarmiganDataInBDSIM(hdf5file, particle='photon')"
   ]
  },
  {
   "cell_type": "code",
   "execution_count": 70,
   "id": "005deaf2-a3eb-4bdd-b507-ab30cad76443",
   "metadata": {
    "tags": []
   },
   "outputs": [],
   "source": [
    "h5 = _h5.File(hdf5file)"
   ]
  },
  {
   "cell_type": "code",
   "execution_count": 71,
   "id": "9534355e-3293-416a-9474-128fc86c11ad",
   "metadata": {
    "tags": []
   },
   "outputs": [
    {
     "data": {
      "text/plain": [
       "array([[ 8.03240788e+00, -1.03929464e-04, -6.66420187e-04,\n",
       "         8.03240784e+00],\n",
       "       [ 1.62578210e+01,  2.31566844e-04,  1.81234661e-04,\n",
       "         1.62578210e+01],\n",
       "       [ 1.59601466e+01, -1.87268790e-05, -1.36179725e-04,\n",
       "         1.59601466e+01],\n",
       "       ...,\n",
       "       [ 6.57956515e+00,  4.82632344e-04, -3.18834263e-04,\n",
       "         6.57956511e+00],\n",
       "       [ 1.10918227e+01,  3.91197399e-04, -1.30487752e-04,\n",
       "         1.10918227e+01],\n",
       "       [ 9.66187620e+00, -3.41587530e-04,  2.75481195e-04,\n",
       "         9.66187617e+00]])"
      ]
     },
     "execution_count": 71,
     "metadata": {},
     "output_type": "execute_result"
    }
   ],
   "source": [
    "h5['final-state/electron/momentum'][()]"
   ]
  },
  {
   "cell_type": "code",
   "execution_count": 77,
   "id": "be7a53c3-153b-470c-a3b2-9291e07cdff0",
   "metadata": {
    "tags": []
   },
   "outputs": [],
   "source": [
    "ID = h5['final-state/electron/id'][()]"
   ]
  },
  {
   "cell_type": "code",
   "execution_count": 78,
   "id": "87b5b298-7226-4f7c-8e38-57e70a93fa11",
   "metadata": {
    "tags": []
   },
   "outputs": [],
   "source": [
    "parentID = h5['final-state/electron/parent_id'][()]"
   ]
  },
  {
   "cell_type": "code",
   "execution_count": 81,
   "id": "0c85d395-c374-4379-a8f1-6cdfa19f1435",
   "metadata": {
    "tags": []
   },
   "outputs": [
    {
     "data": {
      "text/plain": [
       "array([False,  True])"
      ]
     },
     "execution_count": 81,
     "metadata": {},
     "output_type": "execute_result"
    }
   ],
   "source": [
    "_np.unique(ID == parentID)"
   ]
  },
  {
   "cell_type": "code",
   "execution_count": 111,
   "id": "171d4bd3-0f31-4763-af13-467d07299a9d",
   "metadata": {
    "tags": []
   },
   "outputs": [
    {
     "data": {
      "text/plain": [
       "array([     2,      7,     11, ..., 162392, 162394, 162399], dtype=uint64)"
      ]
     },
     "execution_count": 111,
     "metadata": {},
     "output_type": "execute_result"
    }
   ],
   "source": [
    "ID"
   ]
  },
  {
   "cell_type": "code",
   "execution_count": null,
   "id": "01480f04-0e69-4d98-a701-e47dbc3757d8",
   "metadata": {},
   "outputs": [],
   "source": []
  }
 ],
 "metadata": {
  "kernelspec": {
   "display_name": "Python 3 (ipykernel)",
   "language": "python",
   "name": "python3"
  },
  "language_info": {
   "codemirror_mode": {
    "name": "ipython",
    "version": 3
   },
   "file_extension": ".py",
   "mimetype": "text/x-python",
   "name": "python",
   "nbconvert_exporter": "python",
   "pygments_lexer": "ipython3",
   "version": "3.11.6"
  }
 },
 "nbformat": 4,
 "nbformat_minor": 5
}
