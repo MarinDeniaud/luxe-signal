{
 "cells": [
  {
   "cell_type": "code",
   "execution_count": 1,
   "id": "a89d7131-ef36-40d8-9cc3-d8c388d307ab",
   "metadata": {
    "tags": []
   },
   "outputs": [],
   "source": [
    "import numpy as _np\n",
    "import matplotlib.pyplot as _plt\n",
    "import h5py as _h5\n",
    "import glob\n",
    "\n",
    "import os\n",
    "import sys\n",
    "parent_folder = os.path.abspath('..')\n",
    "if parent_folder not in sys.path:\n",
    "    sys.path.append(parent_folder)\n",
    "import generatePtarmiganFiles"
   ]
  },
  {
   "cell_type": "code",
   "execution_count": 2,
   "id": "c4d0197c-6501-4098-a8a2-0802cef7eb97",
   "metadata": {
    "tags": []
   },
   "outputs": [],
   "source": [
    "templatepath = \"../../00_ptarmigan/\"\n",
    "templatename = \"luxe_template.yml\"\n",
    "outputpath = \"../../00_ptarmigan/pickles/\""
   ]
  },
  {
   "cell_type": "markdown",
   "id": "4b072bfb-5737-466d-9e1b-5b68b27ff249",
   "metadata": {},
   "source": [
    "## Generate yml files"
   ]
  },
  {
   "cell_type": "code",
   "execution_count": 13,
   "id": "13337e7e-80ca-42b5-b85c-2661fa28936b",
   "metadata": {
    "tags": []
   },
   "outputs": [
    {
     "data": {
      "text/plain": [
       "'../../00_ptarmigan/pickles/luxe_default_jinja.yml'"
      ]
     },
     "execution_count": 13,
     "metadata": {},
     "output_type": "execute_result"
    }
   ],
   "source": [
    "generatePtarmiganFiles.GeneratePtarmiganFile(charge=250e-12, E=16.5e9, DE=16.5e6, lenght=24e-6)"
   ]
  },
  {
   "cell_type": "markdown",
   "id": "1b793382-7275-4664-81f3-08b135f56df8",
   "metadata": {},
   "source": [
    "## Run single files"
   ]
  },
  {
   "cell_type": "code",
   "execution_count": 14,
   "id": "63e30116-f40b-4d8e-94c6-55d6ac4a1b25",
   "metadata": {
    "tags": []
   },
   "outputs": [
    {
     "name": "stdout",
     "output_type": "stream",
     "text": [
      "\u001b[34m════════════════════════════════════\u001b[0m\u001b[1m Ptarmigan v1.4.2 \u001b[0m\u001b[34m════════════════════════════════════\u001b[0m\n",
      "\u001b[1;36mRunning\u001b[0m 8 tasks with 1250 primary particles per task...\n",
      "\t* with MPI support enabled\n",
      "\t* writing HDF5 output\n",
      "\t* with pair creation rate increased by 1.000e4\n",
      "Done           62 of         1250 primaries, RT = 00:00:00, ETTC = 00:00:01...\n",
      "Done          124 of         1250 primaries, RT = 00:00:00, ETTC = 00:00:02...\n",
      "Done          186 of         1250 primaries, RT = 00:00:00, ETTC = 00:00:01...\n",
      "Done          248 of         1250 primaries, RT = 00:00:00, ETTC = 00:00:01...\n",
      "Done          310 of         1250 primaries, RT = 00:00:00, ETTC = 00:00:01...\n",
      "Done          372 of         1250 primaries, RT = 00:00:00, ETTC = 00:00:00...\n",
      "Done          434 of         1250 primaries, RT = 00:00:00, ETTC = 00:00:00...\n",
      "Done          496 of         1250 primaries, RT = 00:00:00, ETTC = 00:00:00...\n",
      "Done          558 of         1250 primaries, RT = 00:00:01, ETTC = 00:00:01...\n",
      "Done          620 of         1250 primaries, RT = 00:00:01, ETTC = 00:00:01...\n",
      "Done          682 of         1250 primaries, RT = 00:00:02, ETTC = 00:00:01...\n",
      "Done          744 of         1250 primaries, RT = 00:00:02, ETTC = 00:00:01...\n",
      "Done          806 of         1250 primaries, RT = 00:00:02, ETTC = 00:00:01...\n",
      "Done          868 of         1250 primaries, RT = 00:00:02, ETTC = 00:00:00...\n",
      "Done          930 of         1250 primaries, RT = 00:00:02, ETTC = 00:00:00...\n",
      "Done          992 of         1250 primaries, RT = 00:00:02, ETTC = 00:00:00...\n",
      "Done         1054 of         1250 primaries, RT = 00:00:02, ETTC = 00:00:00...\n",
      "Done         1116 of         1250 primaries, RT = 00:00:03, ETTC = 00:00:00...\n",
      "Done         1178 of         1250 primaries, RT = 00:00:03, ETTC = 00:00:00...\n",
      "Done         1240 of         1250 primaries, RT = 00:00:03, ETTC = 00:00:00...\n",
      "Done          210 of         1250 primaries, RT = 00:00:03, ETTC = 00:00:00...\n",
      "\u001b[1;36mGenerating\u001b[0m distribution output...\n",
      "\u001b[1;36mWriting\u001b[0m HDF5 output to \u001b[1;34m../../00_ptarmigan/pickles/luxe_default_jinja_particles.h5\u001b[0m...\n",
      "\u001b[1;92mCompleted\u001b[0m run after 00:00:04.\n",
      "\u001b[34m════════════════════════════════════\u001b[0m\u001b[34m══════════════════\u001b[0m\u001b[34m════════════════════════════════════\u001b[0m\n"
     ]
    }
   ],
   "source": [
    "generatePtarmiganFiles.RunPtarmiganFile('../../00_ptarmigan/pickles/luxe_default_jinja.yml', \n",
    "                                        printPtarmigan=True, removeYmlFile=False, mpi=True, mpi_nb=8)"
   ]
  },
  {
   "cell_type": "markdown",
   "id": "f36a1591-73bc-4436-92f1-065dc16393d1",
   "metadata": {},
   "source": [
    "## Offset Scans"
   ]
  },
  {
   "cell_type": "code",
   "execution_count": 3,
   "id": "542051ff-d412-43e5-a4e9-dd82a7735fba",
   "metadata": {},
   "outputs": [
    {
     "name": "stdout",
     "output_type": "stream",
     "text": [
      "Run position offset scan : luxe_position_offset_scan_X_100 |██████████████████████████████████████████████████| 100.0% Complete\n"
     ]
    }
   ],
   "source": [
    "generatePtarmiganFiles.ScanPositionOffset(tag=\"luxe_position_offset_scan\", seed=0, ngenerate=100000, coord='X', \n",
    "                                          offset_list=_np.round(_np.linspace(0, 20e-6, 21), decimals=6) , radius=5e-6,\n",
    "                                          yml_path=outputpath, templatefilename=templatename, templatefolder=templatepath,\n",
    "                                          printPtarmigan=False, removeYmlFile=True, removeH5File=True, mpi=False, mpi_nb=8)"
   ]
  },
  {
   "cell_type": "code",
   "execution_count": null,
   "id": "1f97f023-237e-4f4a-ae02-c3858d5d21d9",
   "metadata": {},
   "outputs": [],
   "source": [
    "generatePtarmiganFiles.ScanPositionOffset(tag=\"luxe_position_offset_scan\", seed=0, ngenerate=100000, coord='Y', \n",
    "                                          offset_list=_np.round(_np.linspace(0, 20e-6, 21), decimals=6) , radius=5e-6,\n",
    "                                          yml_path=outputpath, templatefilename=templatename, templatefolder=templatepath,\n",
    "                                          printPtarmigan=False, removeYmlFile=True, removeH5File=True, mpi=False, mpi_nb=8)"
   ]
  },
  {
   "cell_type": "code",
   "execution_count": 4,
   "id": "061d1e0a-ba9f-4c6f-9800-c33c054e087c",
   "metadata": {},
   "outputs": [
    {
     "name": "stdout",
     "output_type": "stream",
     "text": [
      "Run radius offset scan : luxe_radius_offset_scan_100000 |██████████████████████████████████████████████████| 100.0% Complete\n"
     ]
    }
   ],
   "source": [
    "generatePtarmiganFiles.ScanRadiusOffset(tag=\"luxe_radius_offset_scan\", seed=0, ngenerate=100000, offset=[0.0, 0.0, 0.0], \n",
    "                                        radius_list=_np.round(_np.linspace(0, 20e-6, 21), decimals=6),\n",
    "                                        yml_path=outputpath, templatefilename=templatename, templatefolder=templatepath,\n",
    "                                        printPtarmigan=False, removeYmlFile=True, removeH5File=True, mpi=True, mpi_nb=8)"
   ]
  },
  {
   "cell_type": "markdown",
   "id": "1d84eda8-aa3d-4029-8a53-a187714c3c1b",
   "metadata": {},
   "source": [
    "# Jitter Scans"
   ]
  },
  {
   "cell_type": "markdown",
   "id": "d1b48575-ae99-46fc-81e1-7ac1ac199021",
   "metadata": {},
   "source": [
    "## Reference (without jitter)"
   ]
  },
  {
   "cell_type": "code",
   "execution_count": 3,
   "id": "3a8d32cf-6fd7-41f7-bc59-4249fe362aaa",
   "metadata": {},
   "outputs": [
    {
     "name": "stdout",
     "output_type": "stream",
     "text": [
      "Run position jitter scan : LUXE_reference_no_jitter_X_50000 |██████████████████████████████████████████████████| 100.0% Complete\n"
     ]
    }
   ],
   "source": [
    "generatePtarmiganFiles.ScanPositionJitter(tag=\"LUXE_reference_no_jitter\", ngenerate=50000, npoints=1000, \n",
    "                                          mu=0, sigma=0, radius=5e-6, coord='X',\n",
    "                                          yml_path=outputpath, templatefilename=templatename, templatefolder=templatepath,\n",
    "                                          printPtarmigan=False, removeYmlFile=True, removeH5File=True, mpi=True, mpi_nb=8)"
   ]
  },
  {
   "cell_type": "markdown",
   "id": "29f1ea03-64ce-4f1e-8a86-92aad66443d5",
   "metadata": {},
   "source": [
    "## X Jitter"
   ]
  },
  {
   "cell_type": "code",
   "execution_count": 5,
   "id": "30586dbe-2c4d-468c-9c80-538bee76c5fa",
   "metadata": {},
   "outputs": [
    {
     "name": "stdout",
     "output_type": "stream",
     "text": [
      "Run position jitter scan : LUXE_position_jitter_scan_X_10000 |██████████████████████████████████████████████████| 100.0% Complete\n"
     ]
    }
   ],
   "source": [
    "generatePtarmiganFiles.ScanPositionJitter(tag=\"LUXE_position_jitter_scan\", ngenerate=10000, npoints=1000, \n",
    "                                          mu=0, sigma=1.5e-6, radius=5e-6, coord='X',\n",
    "                                          yml_path=outputpath, templatefilename=templatename, templatefolder=templatepath,\n",
    "                                          printPtarmigan=False, removeYmlFile=True, removeH5File=True, mpi=True, mpi_nb=8)"
   ]
  },
  {
   "cell_type": "markdown",
   "id": "641694b4-f232-4857-a1e3-e824e5403c77",
   "metadata": {},
   "source": [
    "## Y Jitter"
   ]
  },
  {
   "cell_type": "code",
   "execution_count": 6,
   "id": "98160026-2b9f-457f-bac4-cc755bc5fcf1",
   "metadata": {
    "tags": []
   },
   "outputs": [
    {
     "name": "stdout",
     "output_type": "stream",
     "text": [
      "Run position jitter scan : LUXE_position_jitter_scan_Y_10000 |██████████████████████████████████████████████████| 100.0% Complete\n"
     ]
    }
   ],
   "source": [
    "generatePtarmiganFiles.ScanPositionJitter(tag=\"LUXE_position_jitter_scan\", ngenerate=10000, npoints=1000, \n",
    "                                          mu=0, sigma=1.5e-6, radius=5e-6, coord='Y',\n",
    "                                          yml_path=outputpath, templatefilename=templatename, templatefolder=templatepath,\n",
    "                                          printPtarmigan=False, removeYmlFile=True, removeH5File=True, mpi=True, mpi_nb=8)"
   ]
  },
  {
   "cell_type": "markdown",
   "id": "5a57870b-0e0c-4b55-9bbb-1b6292197dbe",
   "metadata": {},
   "source": [
    "## Z Jitter"
   ]
  },
  {
   "cell_type": "code",
   "execution_count": 7,
   "id": "ded34e6f-1b1b-43d2-8c74-d75915ddc33a",
   "metadata": {
    "tags": []
   },
   "outputs": [
    {
     "name": "stdout",
     "output_type": "stream",
     "text": [
      "Run position jitter scan : luxe_position_jitter_scan_Z_10000 |██████████████████████████████████████████████████| 100.0% Complete\n"
     ]
    }
   ],
   "source": [
    "generatePtarmiganFiles.ScanPositionJitter(tag=\"luxe_position_jitter_scan\", ngenerate=10000, npoints=1000, \n",
    "                                          mu=0, sigma=7.5e-6, radius=5e-6, coord='Z',\n",
    "                                          yml_path=outputpath, templatefilename=templatename, templatefolder=templatepath,\n",
    "                                          printPtarmigan=False, removeYmlFile=True, removeH5File=True, mpi=True, mpi_nb=8)"
   ]
  },
  {
   "cell_type": "markdown",
   "id": "5bd9768d-278a-4699-8de2-2ec39af4bbe5",
   "metadata": {},
   "source": [
    "## Angle Jitter"
   ]
  },
  {
   "cell_type": "code",
   "execution_count": 4,
   "id": "29969803-f30a-48f0-8fbd-5d07ff614db7",
   "metadata": {},
   "outputs": [
    {
     "name": "stdout",
     "output_type": "stream",
     "text": [
      "Run angle jitter scan : luxe_angle_jitter_scan_10000 |██████████████████████████████████████████████████| 100.0% Complete\n"
     ]
    }
   ],
   "source": [
    "generatePtarmiganFiles.ScanAngleJitter(tag=\"luxe_angle_jitter_scan\", ngenerate=10000, offset=[0.0, 0.0, 0.0], \n",
    "                                       mu=-17.2, sigma=6e-5, npoints=1000, radius=5e-6,\n",
    "                                       yml_path=outputpath, templatefilename=templatename, templatefolder=templatepath,\n",
    "                                       printPtarmigan=False, removeYmlFile=True, removeH5File=True, mpi=True, mpi_nb=8)"
   ]
  },
  {
   "cell_type": "markdown",
   "id": "e18bc07d-3eb0-4b4a-93d0-8826e531a4eb",
   "metadata": {},
   "source": [
    "## Energy Jitter"
   ]
  },
  {
   "cell_type": "code",
   "execution_count": 5,
   "id": "ec00bf73-4446-4e9d-9224-4d2d97f53b11",
   "metadata": {},
   "outputs": [
    {
     "name": "stdout",
     "output_type": "stream",
     "text": [
      "Run energy jitter scan : luxe_energy_jitter_scan_10000 |██████████████████████████████████████████████████| 100.0% Complete\n"
     ]
    }
   ],
   "source": [
    "generatePtarmiganFiles.ScanEnergyJitter(tag=\"luxe_energy_jitter_scan\", ngenerate=10000, mu=0, sigma=1e-6, npoints=1000,\n",
    "                                       yml_path=outputpath, templatefilename=templatename, templatefolder=templatepath,\n",
    "                                       printPtarmigan=False, removeYmlFile=True, removeH5File=True, mpi=True, mpi_nb=8)"
   ]
  },
  {
   "cell_type": "markdown",
   "id": "cc6b6b6a-d1e0-41b1-9fef-61c3c5c27621",
   "metadata": {},
   "source": [
    "## Charge Jitter"
   ]
  },
  {
   "cell_type": "code",
   "execution_count": 3,
   "id": "7376dfa8-24fb-4f6d-9d8c-78f06cbeda39",
   "metadata": {
    "tags": []
   },
   "outputs": [
    {
     "name": "stdout",
     "output_type": "stream",
     "text": [
      "Run charge jitter scan : luxe_charge_jitter_scan_10000 |██████████████████████████████████████████████████| 100.0% Complete\n"
     ]
    }
   ],
   "source": [
    "generatePtarmiganFiles.ScanChargeJitter(tag=\"luxe_charge_jitter_scan\", ngenerate=10000, mu=250e-12, sigma=1e-12, npoints=1000,\n",
    "                                        yml_path=outputpath, templatefilename=templatename, templatefolder=templatepath,\n",
    "                                        printPtarmigan=False, removeYmlFile=True, removeH5File=True, mpi=True, mpi_nb=8)"
   ]
  },
  {
   "cell_type": "markdown",
   "id": "c17bbd43-20d6-460b-a2f2-5316cb8462d8",
   "metadata": {},
   "source": [
    "## Length Jitter"
   ]
  },
  {
   "cell_type": "code",
   "execution_count": 4,
   "id": "450b83f2-b337-4dd4-9d67-a9ce25b0ed02",
   "metadata": {
    "tags": []
   },
   "outputs": [
    {
     "name": "stdout",
     "output_type": "stream",
     "text": [
      "Run length jitter scan : luxe_length_jitter_scan_10000 |██████████████████████████████████████████████████| 100.0% Complete\n"
     ]
    }
   ],
   "source": [
    "generatePtarmiganFiles.ScanLengthJitter(tag=\"luxe_length_jitter_scan\", ngenerate=10000, mu=40e-15, sigma=3e-15, npoints=1000,\n",
    "                                        yml_path=outputpath, templatefilename=templatename, templatefolder=templatepath,\n",
    "                                        printPtarmigan=False, removeYmlFile=True, removeH5File=True, mpi=True, mpi_nb=8)"
   ]
  },
  {
   "cell_type": "markdown",
   "id": "9dc08d20-f420-4017-aa4f-fe7fe7f3fc21",
   "metadata": {},
   "source": [
    "## Size Jitter"
   ]
  },
  {
   "cell_type": "code",
   "execution_count": 3,
   "id": "296161c7-2dac-48ec-97f0-fb7b6e4a0feb",
   "metadata": {
    "tags": []
   },
   "outputs": [
    {
     "name": "stdout",
     "output_type": "stream",
     "text": [
      "Run size jitter scan : LUXE_size_jitter_scan_10000 |██████████████████████████████████████████████████| 100.0% Complete\n"
     ]
    }
   ],
   "source": [
    "generatePtarmiganFiles.ScanSizeJitter(tag=\"LUXE_size_jitter_scan\", ngenerate=10000, mu=5e-6, sigma=1e-6, npoints=1000,\n",
    "                                      yml_path=outputpath, templatefilename=templatename, templatefolder=templatepath,\n",
    "                                      printPtarmigan=False, removeYmlFile=True, removeH5File=True, mpi=True, mpi_nb=8)"
   ]
  },
  {
   "cell_type": "code",
   "execution_count": null,
   "id": "ea4d8b68-fc13-4136-a2e5-711ad25e3a04",
   "metadata": {},
   "outputs": [],
   "source": []
  }
 ],
 "metadata": {
  "kernelspec": {
   "display_name": "Python 3 (ipykernel)",
   "language": "python",
   "name": "python3"
  },
  "language_info": {
   "codemirror_mode": {
    "name": "ipython",
    "version": 3
   },
   "file_extension": ".py",
   "mimetype": "text/x-python",
   "name": "python",
   "nbconvert_exporter": "python",
   "pygments_lexer": "ipython3",
   "version": "3.11.6"
  }
 },
 "nbformat": 4,
 "nbformat_minor": 5
}
